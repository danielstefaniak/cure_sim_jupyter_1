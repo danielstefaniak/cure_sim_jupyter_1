{
 "cells": [
  {
   "cell_type": "markdown",
   "metadata": {},
   "source": [
    "# Lessons Overview\n",
    "\n",
    "## Lesson 01: RTM6 Cure Modeling\n",
    "\n",
    "- DiBenedetto equation for current glass transition temperature\n",
    "- Kamal-Sumour cure model for RTM6\n",
    "- Extend by temperature dependent maximum degree of cure\n",
    "- Isothermal and variothermal cure modelling with Python\n",
    "\n",
    "#### _Demo:_ COPE (Composite Parameter Estimation) software demonstration\n",
    "\n",
    "## Lesson 02: More Cure Models\n",
    "\n",
    "- Prepreg epoxy resin M21\n",
    "- Wind energy epoxy DOW Airstone 880\n",
    "\n",
    "## Lesson 03: TTT diagram\n",
    "\n",
    "- Use RTM6 models to build TTT diagram\n",
    "\n",
    "## Lesson 04: 1D Heat transfer (explicit solution)\n",
    "\n",
    "- Use Finite Difference (forward/explicit) method for solving 1D heat transfer equation\n",
    "- CFL stability criterion\n",
    "- Boundary conditions (Dirichlet and Neumann)\n",
    "\n",
    "## Lesson 05: Composite mixing rules for thermal properties\n",
    "\n",
    "- Anisotropic thermal conductivity and specific heat capacity of composites\n",
    "\n",
    "## Lesson 06: 1D Heat transfer coupled with cure model\n",
    "\n",
    "- Implement cure model as heat source into heat transfer solver\n",
    "- Calculate thermal properties of composite material\n",
    "\n",
    "## Lesson 07: 1D Heat transfer (implicit solution)\n",
    "\n",
    "- Speed up calculation by implicit (backward) method\n",
    "- Compare explicit and implicit calculation\n",
    "\n",
    "## Lesson 08: 1D implicit heat transfer coupled with cure model\n",
    "\n",
    "- Implicit heat transfer solver coupled with cure model\n",
    "- During one heat transfer calculation the cure model is iterated more often for higher precision\n",
    "\n",
    "## Lesson 09: Explicit 2D Heat with Cure\n",
    "\n",
    "- 2D model of RTM tool with composite part composed of plies with different fiber orientations"
   ]
  },
  {
   "cell_type": "markdown",
   "metadata": {
    "collapsed": true
   },
   "source": [
    "# Additional Material\n",
    "\n",
    "## Derive Finite Difference Operators from Taylor Series"
   ]
  },
  {
   "cell_type": "code",
   "execution_count": null,
   "metadata": {
    "collapsed": true
   },
   "outputs": [],
   "source": []
  }
 ],
 "metadata": {
  "kernelspec": {
   "display_name": "Python 3",
   "language": "python",
   "name": "python3"
  },
  "language_info": {
   "codemirror_mode": {
    "name": "ipython",
    "version": 3
   },
   "file_extension": ".py",
   "mimetype": "text/x-python",
   "name": "python",
   "nbconvert_exporter": "python",
   "pygments_lexer": "ipython3",
   "version": "3.7.3"
  },
  "pycharm": {
   "stem_cell": {
    "cell_type": "raw",
    "metadata": {
     "collapsed": false
    },
    "source": []
   }
  }
 },
 "nbformat": 4,
 "nbformat_minor": 2
}
