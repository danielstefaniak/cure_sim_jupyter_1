{
 "cells": [
  {
   "cell_type": "markdown",
   "metadata": {},
   "source": [
    "# References and additional material\n",
    "\n",
    "## Finite Differences in Python\n",
    "\n",
    "- Lorena A. Barba - \"Practical Numerical Methods with Python\" [Github](https://github.com/numerical-mooc/numerical-mooc/)\n",
    "    - Python Notebooks\n",
    "    - [Module 04](https://github.com/numerical-mooc/numerical-mooc/tree/master/lessons/04_spreadout) is about diffusion problems (such as heat transport)\n",
    "    - Very good introduction into CFL stability criterion, explicit and implicit methods\n",
    "\n",
    "\n",
    "- Hans Petter Langtangen - \"Finite Difference Computing with PDEs - A Modern Software Approach\" [Github](https://hplgit.github.io/fdm-book/doc/web/index.html)\n",
    "     - Another good source for understanding the Finite Difference Method using Pyhton\n",
    "\n",
    "\n",
    "- Daniel Koehn (TU Kiel) - \"Theory-of-seismic-waves-II\" [Github](https://github.com/daniel-koehn/Theory-of-seismic-waves-II)\n",
    "    - Python Notebooks\n",
    "    - Very good introduction into Finite Difference Method for wave problems"
   ]
  },
  {
   "cell_type": "markdown",
   "metadata": {},
   "source": [
    "## Cure models\n",
    "\n",
    "- Exner, Wibke; Hein, Robert; Mahrholz, Thorsten; Wierach, Peter; Monner, Hans Peter; Sinapius, Michael (2018): _Impact of nanoparticles on the process-induced distortions of carbon fiber reinforced plastics. An experimental and simulative approach._ In: J. Appl. Polym. Sci. 43 (14), S. 47031. DOI: https://doi.org/10.1002/app.47031\n",
    "\n",
    "- James Kratz, Tassos Mesogitis, Alex Skordos, Ian Hamerton, Ivana K. Partridge (2016): _DEVELOPING CURE KINETICS MODELS FOR INTERLEAF PARTICLE TOUGHENED EPOXIES._ In: SAMPE Conference Long Beach 2016\n",
    "\n",
    "- Sven Ropte (2016): _Einflussfaktoren auf Eigenspannungen und Verformungen in der Herstellung von Hauptgurten für Rotorblätter von Windkraftanlagen._ Masterthesis (Uni Magdeburg, DLR Braunschweig)"
   ]
  },
  {
   "cell_type": "markdown",
   "metadata": {},
   "source": [
    "## Composite Mixing Rules\n",
    "\n",
    "- Schürmann, Helmut (2007): _Konstruieren mit Faser-Kunststoff-Verbunden._ Springer (VDI)"
   ]
  }
 ],
 "metadata": {
  "kernelspec": {
   "display_name": "Python 3",
   "language": "python",
   "name": "python3"
  },
  "language_info": {
   "codemirror_mode": {
    "name": "ipython",
    "version": 3
   },
   "file_extension": ".py",
   "mimetype": "text/x-python",
   "name": "python",
   "nbconvert_exporter": "python",
   "pygments_lexer": "ipython3",
   "version": "3.7.3"
  }
 },
 "nbformat": 4,
 "nbformat_minor": 2
}
